{
 "cells": [
  {
   "cell_type": "markdown",
   "metadata": {},
   "source": [
    "# Analiza zbioru\n",
    "\n",
    "Zbiór został zapisany w formacie JSON, wstępnie podzielone na zbiór treningowy oraz testowy."
   ]
  },
  {
   "cell_type": "code",
   "execution_count": 1,
   "metadata": {},
   "outputs": [],
   "source": [
    "import json\n",
    "\n",
    "base_path = '../../../data/fewrel'\n",
    "train_file, test_file = f'{base_path}/fewrel_train.json', f'{base_path}/fewrel_val.json'\n",
    "with open(train_file) as fp:\n",
    "    train_json = json.load(fp)\n",
    "with open(test_file) as fp:\n",
    "    test_json = json.load(fp)"
   ]
  },
  {
   "cell_type": "markdown",
   "metadata": {},
   "source": [
    "## Klucze"
   ]
  },
  {
   "cell_type": "markdown",
   "metadata": {},
   "source": [
    "`P<liczba>` oznacza identyfikator relacji w WikiDacie. Do każdej relacji przypisane są zbiory dokumentów w których występuje co najmniej raz dana relacja."
   ]
  },
  {
   "cell_type": "code",
   "execution_count": null,
   "metadata": {},
   "outputs": [],
   "source": [
    "train_json.keys()"
   ]
  },
  {
   "cell_type": "markdown",
   "metadata": {},
   "source": [
    "Każdy zbiór danych zawiera własną listę kluczy, ponieważ zadanie `fewrel` było dedykowane `few-shot learning`. Można to wykorzystać w tym zadaniu lub wybrać/połączyć zbiór/zbiory w celu stworzenia jednego dla innych metod."
   ]
  },
  {
   "cell_type": "code",
   "execution_count": null,
   "metadata": {},
   "outputs": [
    {
     "data": {
      "text/plain": [
       "'Klucze przed: len(train_json)=64, klucze unikalne: len(train_uniq)=64'"
      ]
     },
     "metadata": {},
     "output_type": "display_data"
    }
   ],
   "source": [
    "train_uniq = set(train_json.keys()) - set(test_json.keys())\n",
    "f'Klucze przed: {len(train_json)=}, klucze unikalne: {len(train_uniq)=}'"
   ]
  },
  {
   "cell_type": "code",
   "execution_count": null,
   "metadata": {},
   "outputs": [
    {
     "data": {
      "text/plain": [
       "'Klucze przed: len(test_json)=16, klucze unikalne: len(test_uniq)=16'"
      ]
     },
     "metadata": {},
     "output_type": "display_data"
    }
   ],
   "source": [
    "test_uniq = set(test_json.keys()) - set(train_json.keys())\n",
    "f'Klucze przed: {len(test_json)=}, klucze unikalne: {len(test_uniq)=}'"
   ]
  },
  {
   "cell_type": "markdown",
   "metadata": {},
   "source": [
    "## Wartości"
   ]
  },
  {
   "cell_type": "markdown",
   "metadata": {},
   "source": [
    "Dokumenty zostały już wstępnie stokenizowane. Pierwszy i drugi argument relacji są oznaczone odpowiednio jako `h` i `t`. `Q<numer>` oznacza identyfikator encji w WikiDacie. Lista zawiera kolejne wystąpienia encji. Liczby w podwójnej liście oznaczają zakres `od-do` encji w dokumencie stokenizowanym."
   ]
  },
  {
   "cell_type": "code",
   "execution_count": null,
   "metadata": {},
   "outputs": [],
   "source": [
    "train_json['P931']"
   ]
  },
  {
   "cell_type": "markdown",
   "metadata": {},
   "source": [
    "## Zbiór treningowy"
   ]
  },
  {
   "cell_type": "markdown",
   "metadata": {},
   "source": [
    "Relacje w zbiorze treningowym."
   ]
  },
  {
   "cell_type": "code",
   "execution_count": 2,
   "metadata": {},
   "outputs": [
    {
     "data": {
      "text/plain": [
       "dict_keys(['P931', 'P4552', 'P140', 'P1923', 'P150', 'P6', 'P27', 'P449', 'P1435', 'P175', 'P1344', 'P39', 'P527', 'P740', 'P706', 'P84', 'P495', 'P123', 'P57', 'P22', 'P178', 'P241', 'P403', 'P1411', 'P135', 'P991', 'P156', 'P176', 'P31', 'P1877', 'P102', 'P1408', 'P159', 'P3373', 'P1303', 'P17', 'P106', 'P551', 'P937', 'P355', 'P710', 'P137', 'P674', 'P466', 'P136', 'P306', 'P127', 'P400', 'P974', 'P1346', 'P460', 'P86', 'P118', 'P264', 'P750', 'P58', 'P3450', 'P105', 'P276', 'P101', 'P407', 'P1001', 'P800', 'P131'])"
      ]
     },
     "execution_count": 2,
     "metadata": {},
     "output_type": "execute_result"
    }
   ],
   "source": [
    "train_json.keys()"
   ]
  },
  {
   "cell_type": "markdown",
   "metadata": {},
   "source": [
    "Semantyczne znaczenie relacji."
   ]
  },
  {
   "cell_type": "code",
   "execution_count": null,
   "metadata": {},
   "outputs": [],
   "source": [
    "from bs4 import BeautifulSoup\n",
    "from requests import request\n",
    "import pandas as pd\n",
    "\n",
    "def get_semantics_details(dataset: dict) -> pd.DataFrame:\n",
    "    links = {k: f'https://www.wikidata.org/wiki/Property:{k}' for k in dataset.keys()}\n",
    "    responses = {k: request('GET', l).content for k, l in links.items()}\n",
    "    keys_titles = {k: BeautifulSoup(r, 'lxml').title.text for k, r in responses.items()}\n",
    "    keys_titles = {k: v.replace(' - Wikidata', '') for k, v in keys_titles.items()}\n",
    "\n",
    "    sem_details = pd.DataFrame({'rel': keys_titles.keys(), 'val': keys_titles.values()})\n",
    "    return sem_details\n",
    "\n",
    "get_semantics_details(train_json)"
   ]
  },
  {
   "cell_type": "markdown",
   "metadata": {},
   "source": [
    "Ilość relacji w zbiorze."
   ]
  },
  {
   "cell_type": "code",
   "execution_count": null,
   "metadata": {},
   "outputs": [],
   "source": [
    "len(train_json)"
   ]
  },
  {
   "cell_type": "markdown",
   "metadata": {},
   "source": [
    "## Zbiór testowy."
   ]
  },
  {
   "cell_type": "markdown",
   "metadata": {},
   "source": [
    "Relacje w zbiorze testowym."
   ]
  },
  {
   "cell_type": "code",
   "execution_count": null,
   "metadata": {},
   "outputs": [],
   "source": [
    "test_json.keys()"
   ]
  },
  {
   "cell_type": "markdown",
   "metadata": {},
   "source": [
    "Semantyczne znaczenie relacji."
   ]
  },
  {
   "cell_type": "code",
   "execution_count": null,
   "metadata": {},
   "outputs": [],
   "source": [
    "get_semantics_details(test_json)"
   ]
  },
  {
   "cell_type": "markdown",
   "metadata": {},
   "source": [
    "Ilość relacji."
   ]
  },
  {
   "cell_type": "code",
   "execution_count": null,
   "metadata": {},
   "outputs": [],
   "source": [
    "len(test_json)"
   ]
  },
  {
   "cell_type": "markdown",
   "metadata": {},
   "source": [
    "## Badanie zbalansowania danych"
   ]
  },
  {
   "cell_type": "markdown",
   "metadata": {},
   "source": [
    "W zbiorze treningowym dane są zbalansowane, jednak relacje `P178`, `P136`, `P306` występuje zbyt często, powyżej `2σ`."
   ]
  },
  {
   "cell_type": "code",
   "execution_count": 4,
   "metadata": {},
   "outputs": [
    {
     "data": {
      "text/plain": [
       "<AxesSubplot:>"
      ]
     },
     "execution_count": 4,
     "metadata": {},
     "output_type": "execute_result"
    },
    {
     "data": {
      "image/png": "[encoded data removed]",
      "text/plain": [
       "<Figure size 1080x1440 with 1 Axes>"
      ]
     },
     "metadata": {},
     "output_type": "display_data"
    }
   ],
   "source": [
    "import random\n",
    "import matplotlib.pyplot as plt\n",
    "from itertools import repeat\n",
    "import pandas as pd\n",
    "\n",
    "\n",
    "def show_dist(dataset: dict):\n",
    "    x = pd.Series({\n",
    "        rel: sum(len(doc['h'][2]) for doc in corpus) \n",
    "        for rel, corpus in dataset.items()\n",
    "    })\n",
    "\n",
    "    colors = [\n",
    "        f'#8{h_num[2:]:0<5}' \n",
    "        for _ in range(len(x)) \n",
    "        if (h_num := hex(random.randint(0, 16**5))[2:] )\n",
    "    ]\n",
    "\n",
    "    mean = x.mean()\n",
    "    upper, lower = (x.mean() + x.std(), x.mean() - x.std())\n",
    "    double_upper, double_lower = (upper + x.std(), lower - x.std())\n",
    "\n",
    "    plt.plot(list(repeat(double_upper, len(x))), color='violet', linestyle='dashed', linewidth=2, dashes=(10,10))\n",
    "    plt.plot(list(repeat(upper, len(x))), color='blue', linestyle='dashed', linewidth=3, dashes=(5,10))\n",
    "    plt.plot(list(repeat(mean, len(x))), color='red', linewidth=4)\n",
    "    plt.plot(list(repeat(lower, len(x))), color='blue', linestyle='dashed', linewidth=3, dashes=(5,10))\n",
    "    plt.plot(list(repeat(double_lower, len(x))), color='violet', linestyle='dashed', linewidth=2, dashes=(10,10))\n",
    "\n",
    "    return x\\\n",
    "        .plot\\\n",
    "        .bar(figsize=(15,20), color=colors)\n",
    "\n",
    "show_dist(train_json)"
   ]
  },
  {
   "cell_type": "markdown",
   "metadata": {},
   "source": [
    "W zbiorze testowym dane są zbalansowane, jednak relacja `P59` występuje zbyt często, powyżej `2σ`."
   ]
  },
  {
   "cell_type": "code",
   "execution_count": 5,
   "metadata": {},
   "outputs": [
    {
     "data": {
      "text/plain": [
       "<AxesSubplot:>"
      ]
     },
     "execution_count": 5,
     "metadata": {},
     "output_type": "execute_result"
    },
    {
     "data": {
      "image/png": "[encoded data removed]",
      "text/plain": [
       "<Figure size 1080x1440 with 1 Axes>"
      ]
     },
     "metadata": {},
     "output_type": "display_data"
    }
   ],
   "source": [
    "show_dist(test_json)"
   ]
  },
  {
   "cell_type": "markdown",
   "metadata": {},
   "source": [
    "Oba zbiory posiadają ~ jednakową liczność relacji, zatem można je połaczyć w jeden zbiór dla pozostałych metod."
   ]
  },
  {
   "cell_type": "markdown",
   "metadata": {},
   "source": [
    "# Przetwarzanie zbioru"
   ]
  },
  {
   "cell_type": "markdown",
   "metadata": {},
   "source": [
    "# Translacja"
   ]
  },
  {
   "cell_type": "markdown",
   "metadata": {},
   "source": [
    "## Oznaczenie encji w tekście"
   ]
  },
  {
   "cell_type": "code",
   "execution_count": null,
   "metadata": {},
   "outputs": [],
   "source": [
    "from tqdm.notebook import tqdm\n",
    "\n",
    "def preprocessing(dataset: dict) -> dict:\n",
    "    dataset = dataset.copy()\n",
    "    for rel_docs in tqdm(dataset.values()):\n",
    "        for doc in rel_docs:\n",
    "            tokens = doc['tokens']\n",
    "            h_pos = doc['h'][2]\n",
    "            t_pos = doc['t'][2]\n",
    "\n",
    "            for h_id, pos in enumerate(h_pos):\n",
    "                start, stop = pos[0], pos[-1]\n",
    "                tokens[start] = f'<h{h_id}>{tokens[start]}'\n",
    "                tokens[stop] = f'{tokens[stop]}</h{h_id}>'\n",
    "\n",
    "            for t_id, pos in enumerate(t_pos):\n",
    "                start, stop = pos[0], pos[-1]\n",
    "                tokens[start] = rf'<t{t_id}>{tokens[start]}'\n",
    "                tokens[stop] = rf'{tokens[stop]}</t{t_id}>'\n",
    "    \n",
    "    return dataset\n",
    "\n",
    "preprocessed_train = preprocessing(train_json)\n",
    "preprocessed_test = preprocessing(test_json)"
   ]
  },
  {
   "cell_type": "markdown",
   "metadata": {},
   "source": [
    "## Prosty test"
   ]
  },
  {
   "cell_type": "code",
   "execution_count": null,
   "metadata": {},
   "outputs": [],
   "source": [
    "from googletrans import Translator\n",
    "\n",
    "translator = Translator()\n",
    "txt = ' '.join(preprocessed_train['P27'][3]['tokens'])\n",
    "\n",
    "txt, Translator().translate(txt, dest='pl').text"
   ]
  },
  {
   "cell_type": "markdown",
   "metadata": {},
   "source": [
    "## Przetłumaczenie finalne"
   ]
  },
  {
   "cell_type": "code",
   "execution_count": 146,
   "metadata": {},
   "outputs": [],
   "source": [
    "from googletrans import Translator\n",
    "import random\n",
    "from time import sleep\n",
    "\n",
    "MIN_WAIT_S, MAX_WAIT_S = 0.1, 3\n",
    "translator = Translator()\n",
    "\n",
    "def translate_dataset(dataset: dict) -> dict:\n",
    "    dataset = dataset.copy()\n",
    "    for rel_docs in tqdm(dataset.values(), desc='json'):\n",
    "        for doc in tqdm(rel_docs, desc='translation'):\n",
    "            en_text = ' '.join(doc['tokens'])\n",
    "\n",
    "            timeout = MIN_WAIT_S + random.random() * MAX_WAIT_S\n",
    "            if random.random() > 0.95:\n",
    "                sleep(timeout)\n",
    "\n",
    "            while 1:\n",
    "                try:\n",
    "                    pl_text = translator.translate(en_text, src='en', dest='pl')\n",
    "                    doc['pl_text'] = pl_text.text\n",
    "                    break\n",
    "                except:\n",
    "                    timeout = MIN_WAIT_S + random.random() * MAX_WAIT_S\n",
    "                    sleep(timeout)\n",
    "                    continue\n",
    "    \n",
    "    return dataset\n",
    "\n",
    "processed_train = translate_dataset(preprocessed_train)\n",
    "processed_test = translate_dataset(preprocessed_test)"
   ]
  },
  {
   "cell_type": "code",
   "execution_count": null,
   "metadata": {},
   "outputs": [],
   "source": [
    "import pandas as pd\n",
    "\n",
    "def build_dataframe(translated_dataset: dict) -> pd.DataFrame:\n",
    "    df = []\n",
    "\n",
    "    for rel, rel_docs in translated_dataset.items():\n",
    "        for doc in rel_docs:\n",
    "            df.append({\n",
    "                'rel': rel,\n",
    "                'text': ' '.join(doc['tokens']),\n",
    "                'text_pl': doc['pl_text']\n",
    "            })\n",
    "\n",
    "    df = pd.DataFrame(df)\n",
    "    return df\n",
    "\n",
    "processed_train = build_dataframe(processed_train)\n",
    "processed_train"
   ]
  },
  {
   "cell_type": "code",
   "execution_count": null,
   "metadata": {},
   "outputs": [],
   "source": [
    "processed_test = build_dataframe(processed_test)\n",
    "processed_test"
   ]
  },
  {
   "cell_type": "code",
   "execution_count": null,
   "metadata": {},
   "outputs": [],
   "source": [
    "processed_train.to_csv('fewrel_train.csv', index=False)\n",
    "processed_test.to_csv('fewrel_test.csv', index=False)"
   ]
  },
  {
   "cell_type": "markdown",
   "metadata": {},
   "source": [
    "# Postprocessing\n",
    "\n",
    "Usuwamy błędnie przetłumaczone przykłady, przez błędne rozumiemy pomieszane znaczniki etykiety."
   ]
  },
  {
   "cell_type": "code",
   "execution_count": null,
   "metadata": {},
   "outputs": [],
   "source": [
    "import pandas as pd\n",
    "from tqdm.notebook import tqdm\n",
    "import re\n",
    "\n",
    "tqdm.pandas()\n",
    "\n",
    "def postprocessing(name: str):\n",
    "\n",
    "    df = pd.read_csv(name)\n",
    "    begin = r'\\<[th]\\d+\\>'\n",
    "    end = r'\\</[th]\\d+\\>'\n",
    "    inner_text = rf'(?:(?!{begin}).)*'\n",
    "    pattern_tag = re.compile(fr'({begin})({inner_text})({end})')\n",
    "\n",
    "    ents_pl = df['text_pl'].progress_apply(pattern_tag.findall)\n",
    "    ents_en = df['text'].progress_apply(pattern_tag.findall)\n",
    "\n",
    "    df['valid'] = True\n",
    "\n",
    "    for doc_index, (pl, en) in enumerate(zip(ents_pl, ents_en)):\n",
    "        if len(pl) != len(en):\n",
    "            df.loc[doc_index, 'valid'] = False\n",
    "        else:\n",
    "            for p in pl:\n",
    "                tag_start = p[0]\n",
    "                text = p[1]\n",
    "                tag_end = p[2]\n",
    "\n",
    "                tag_start_letter = tag_start[1]\n",
    "                tag_start_number = tag_start[2:-1]\n",
    "                tag_end_letter = tag_end[2]\n",
    "                tag_end_number = tag_end[3:-1]\n",
    "\n",
    "                if not(all([\n",
    "                    tag_start_letter == tag_end_letter,\n",
    "                    tag_start_number == tag_end_number\n",
    "                ])):\n",
    "                    df.loc[doc_index, 'valid'] = False\n",
    "\n",
    "    print(df['valid'].value_counts(True))\n",
    "\n",
    "    df[df['valid']]\\\n",
    "        .drop(columns=['valid'])\\\n",
    "        .to_csv(f'fix_{name}', index=False)"
   ]
  },
  {
   "cell_type": "markdown",
   "metadata": {},
   "source": [
    "~ 3% przykładów zostało błędnie przetłumaczonych"
   ]
  },
  {
   "cell_type": "code",
   "execution_count": null,
   "metadata": {},
   "outputs": [],
   "source": [
    "postprocessing('fewrel_test.csv')\n",
    "postprocessing('fewrel_train.csv')"
   ]
  }
 ],
 "metadata": {
  "interpreter": {
   "hash": "85c67faa8e708350b5c9c6aa783dbb09b6e56db1eb7350b83c04c32c72e779e8"
  },
  "kernelspec": {
   "display_name": "Python 3.9.11 ('thesis')",
   "language": "python",
   "name": "python3"
  },
  "language_info": {
   "codemirror_mode": {
    "name": "ipython",
    "version": 3
   },
   "file_extension": ".py",
   "mimetype": "text/x-python",
   "name": "python",
   "nbconvert_exporter": "python",
   "pygments_lexer": "ipython3",
   "version": "3.9.11"
  },
  "orig_nbformat": 4,
  "vscode": {
   "interpreter": {
    "hash": "d71527e0dd44f795681ff70e41af4afeb0c5f4d47a79545f42bdef8e803f147b"
   }
  }
 },
 "nbformat": 4,
 "nbformat_minor": 2
}
